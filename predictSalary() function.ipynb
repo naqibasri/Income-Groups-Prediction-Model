{
 "cells": [
  {
   "cell_type": "code",
   "execution_count": 1,
   "id": "69c02ba1",
   "metadata": {},
   "outputs": [],
   "source": [
    "import pandas as pd\n",
    "import numpy as np\n",
    "import pickle\n",
    "model = 'model_object_pred_income_groups.sav'"
   ]
  },
  {
   "cell_type": "markdown",
   "id": "d9657978",
   "metadata": {},
   "source": [
    "# predictSalary(model,data) function\n",
    "\n",
    "*  **Model**\n",
    "    * Please use model '*model_object_pred_income_groups.sav*' in local drive\n",
    "\n",
    "*  **data**\n",
    "    * Data columns format:\n",
    "            ['age', 'race', 'gender', 'employment', 'education', 'married',\n",
    "           'person_living_in_house', 'house_type', 'house_value', 'vehicle',\n",
    "           'house_rental_fee', 'house_loan_pmt', 'transport_use',\n",
    "           'transport_spending', 'public_transport_spending', 'house_utility',\n",
    "           'food_spending', 'kids_spending', 'personal_loan', 'education_loan',\n",
    "           'other_loan', 'investment']"
   ]
  },
  {
   "cell_type": "code",
   "execution_count": 10,
   "id": "f373e8ec",
   "metadata": {},
   "outputs": [],
   "source": [
    "def predictSalary(model,data):\n",
    "        loaded_model = pickle.load(open(model, 'rb'))\n",
    "        y_prediction_dum = loaded_model.predict(data)\n",
    "        y_pred_cat = []\n",
    "        for i in y_prediction_dum:\n",
    "            if i == 0:\n",
    "                y_pred_cat.append('B')\n",
    "            else:\n",
    "                y_pred_cat.append('M')\n",
    "        print('The predicted income group: \\n\\n',y_pred_cat)"
   ]
  }
 ],
 "metadata": {
  "kernelspec": {
   "display_name": "Python 3",
   "language": "python",
   "name": "python3"
  },
  "language_info": {
   "codemirror_mode": {
    "name": "ipython",
    "version": 3
   },
   "file_extension": ".py",
   "mimetype": "text/x-python",
   "name": "python",
   "nbconvert_exporter": "python",
   "pygments_lexer": "ipython3",
   "version": "3.8.8"
  }
 },
 "nbformat": 4,
 "nbformat_minor": 5
}
